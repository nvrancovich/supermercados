{
 "cells": [
  {
   "cell_type": "code",
   "execution_count": 8,
   "id": "27941b60",
   "metadata": {},
   "outputs": [],
   "source": [
    "from selenium import webdriver\n",
    "from selenium.webdriver.chrome.service import Service\n",
    "from webdriver_manager.chrome import ChromeDriverManager\n",
    "from selenium.webdriver.common.by import By\n",
    "import pandas as pd\n",
    "import time"
   ]
  },
  {
   "cell_type": "code",
   "execution_count": 2,
   "id": "7d86cfb2",
   "metadata": {},
   "outputs": [],
   "source": [
    "url = 'https://www.jumbo.com.ar/bebidas/gaseosas'"
   ]
  },
  {
   "cell_type": "code",
   "execution_count": 37,
   "id": "c1582ef8",
   "metadata": {},
   "outputs": [
    {
     "name": "stdout",
     "output_type": "stream",
     "text": [
      "\n"
     ]
    },
    {
     "name": "stderr",
     "output_type": "stream",
     "text": [
      "[WDM] - ====== WebDriver manager ======\n"
     ]
    },
    {
     "name": "stdout",
     "output_type": "stream",
     "text": [
      "2022-09-13 10:55:49,850 INFO ====== WebDriver manager ======\n"
     ]
    },
    {
     "name": "stderr",
     "output_type": "stream",
     "text": [
      "[WDM] - Current google-chrome version is 104.0.5112\n"
     ]
    },
    {
     "name": "stdout",
     "output_type": "stream",
     "text": [
      "2022-09-13 10:55:49,953 INFO Current google-chrome version is 104.0.5112\n"
     ]
    },
    {
     "name": "stderr",
     "output_type": "stream",
     "text": [
      "[WDM] - Get LATEST chromedriver version for 104.0.5112 google-chrome\n"
     ]
    },
    {
     "name": "stdout",
     "output_type": "stream",
     "text": [
      "2022-09-13 10:55:49,957 INFO Get LATEST chromedriver version for 104.0.5112 google-chrome\n"
     ]
    },
    {
     "name": "stderr",
     "output_type": "stream",
     "text": [
      "[WDM] - Driver [/home/nvrancovich/.wdm/drivers/chromedriver/linux64/104.0.5112.79/chromedriver] found in cache\n"
     ]
    },
    {
     "name": "stdout",
     "output_type": "stream",
     "text": [
      "2022-09-13 10:55:50,147 INFO Driver [/home/nvrancovich/.wdm/drivers/chromedriver/linux64/104.0.5112.79/chromedriver] found in cache\n"
     ]
    }
   ],
   "source": [
    "driver = webdriver.Chrome(service=Service(ChromeDriverManager().install()))\n",
    "\n",
    "driver.get(url)\n",
    "\n",
    "SCROLL_PAUSE_TIME = 5\n",
    "\n",
    "# Get scroll height\n",
    "last_height = driver.execute_script(\"return document.body.scrollHeight\")\n",
    "\n",
    "while True:\n",
    "    # Scroll down to bottom\n",
    "    driver.execute_script(\"window.scrollTo(0, document.body.scrollHeight);\")\n",
    "\n",
    "    # Wait to load page\n",
    "    time.sleep(SCROLL_PAUSE_TIME)\n",
    "\n",
    "    # Calculate new scroll height and compare with last scroll height\n",
    "    new_height = driver.execute_script(\"return document.body.scrollHeight\")\n",
    "    if new_height == last_height:\n",
    "        break\n",
    "    last_height = new_height\n",
    "    \n",
    "element = driver.find_element(By.CLASS_NAME ,'product-shelf')\n",
    "elements = element.find_elements(By.CLASS_NAME, 'bebidas ')\n",
    "\n",
    "bebidas = []\n",
    "\n",
    "for e in elements:\n",
    "    bebida = {}\n",
    "    \n",
    "    bebida['nombre'] = e.find_element(By.CLASS_NAME, 'product-item__name').text\n",
    "    \n",
    "    precio = e.find_element(By.CLASS_NAME, 'product-item__bottom')\n",
    "    if precio.find_elements(By.TAG_NAME, 'span')[1].get_attribute('data-price') != None:\n",
    "        bebida['precio'] = precio.find_elements(By.TAG_NAME, 'span')[1].get_attribute('data-price')\n",
    "    elif precio.find_elements(By.TAG_NAME, 'span')[2].get_attribute('data-price') != None:\n",
    "        bebida['precio'] = precio.find_elements(By.TAG_NAME, 'span')[2].get_attribute('data-price')\n",
    "    elif precio.find_elements(By.TAG_NAME, 'span')[3].get_attribute('data-price') != None:\n",
    "        bebida['precio'] = precio.find_elements(By.TAG_NAME, 'span')[3].get_attribute('data-price')\n",
    "    elif precio.find_elements(By.TAG_NAME, 'span')[4].get_attribute('data-price') != None:\n",
    "        bebida['precio'] = precio.find_elements(By.TAG_NAME, 'span')[4].get_attribute('data-price')\n",
    "    elif precio.find_elements(By.TAG_NAME, 'span')[5].get_attribute('data-price') != None:\n",
    "        bebida['precio'] = precio.find_elements(By.TAG_NAME, 'span')[5].get_attribute('data-price')\n",
    "    elif precio.find_elements(By.TAG_NAME, 'span')[6].get_attribute('data-price') != None:\n",
    "        bebida['precio'] = precio.find_elements(By.TAG_NAME, 'span')[6].get_attribute('data-price')\n",
    "    else:\n",
    "        bebida['precio'] = precio.find_elements(By.TAG_NAME, 'span')[7].get_attribute('data-price')\n",
    "        print('7')\n",
    "    \n",
    "    bebidas.append(bebida)\n",
    "    \n",
    "driver.close()"
   ]
  },
  {
   "cell_type": "code",
   "execution_count": 39,
   "id": "30a70fe0",
   "metadata": {},
   "outputs": [
    {
     "data": {
      "text/html": [
       "<div>\n",
       "<style scoped>\n",
       "    .dataframe tbody tr th:only-of-type {\n",
       "        vertical-align: middle;\n",
       "    }\n",
       "\n",
       "    .dataframe tbody tr th {\n",
       "        vertical-align: top;\n",
       "    }\n",
       "\n",
       "    .dataframe thead th {\n",
       "        text-align: right;\n",
       "    }\n",
       "</style>\n",
       "<table border=\"1\" class=\"dataframe\">\n",
       "  <thead>\n",
       "    <tr style=\"text-align: right;\">\n",
       "      <th></th>\n",
       "      <th>nombre</th>\n",
       "      <th>precio</th>\n",
       "    </tr>\n",
       "  </thead>\n",
       "  <tbody>\n",
       "    <tr>\n",
       "      <th>0</th>\n",
       "      <td>Gaseosa Schweppes Sin Azúcar Pomelo 1,5 Lt</td>\n",
       "      <td>326</td>\n",
       "    </tr>\n",
       "    <tr>\n",
       "      <th>1</th>\n",
       "      <td>Gaseosa Coca-cola Sin Azúcar 2,25 Lt</td>\n",
       "      <td>437</td>\n",
       "    </tr>\n",
       "    <tr>\n",
       "      <th>2</th>\n",
       "      <td>Gaseosa Coca-cola Sin Azúcar 2.5 L</td>\n",
       "      <td>485</td>\n",
       "    </tr>\n",
       "    <tr>\n",
       "      <th>3</th>\n",
       "      <td>Gaseosa Schweppes Tónica 1.5 L</td>\n",
       "      <td>329</td>\n",
       "    </tr>\n",
       "    <tr>\n",
       "      <th>4</th>\n",
       "      <td>Gaseosa Coca-cola Sabor Original 2.25 L</td>\n",
       "      <td>437</td>\n",
       "    </tr>\n",
       "    <tr>\n",
       "      <th>...</th>\n",
       "      <td>...</td>\n",
       "      <td>...</td>\n",
       "    </tr>\n",
       "    <tr>\n",
       "      <th>96</th>\n",
       "      <td>Gaseosa Cola Pepsi 500 Ml</td>\n",
       "      <td>122</td>\n",
       "    </tr>\n",
       "    <tr>\n",
       "      <th>97</th>\n",
       "      <td>Gaseosa Paso De Los Toros Pomelo 500 Ml</td>\n",
       "      <td>122</td>\n",
       "    </tr>\n",
       "    <tr>\n",
       "      <th>98</th>\n",
       "      <td>7up Lima Limón 500 Ml</td>\n",
       "      <td>123</td>\n",
       "    </tr>\n",
       "    <tr>\n",
       "      <th>99</th>\n",
       "      <td>7up Lima Limón Lata 354 Ml</td>\n",
       "      <td>107</td>\n",
       "    </tr>\n",
       "    <tr>\n",
       "      <th>100</th>\n",
       "      <td>Gaseosa Cunnington Pomelo 1500cc</td>\n",
       "      <td>150</td>\n",
       "    </tr>\n",
       "  </tbody>\n",
       "</table>\n",
       "<p>101 rows × 2 columns</p>\n",
       "</div>"
      ],
      "text/plain": [
       "                                         nombre precio\n",
       "0    Gaseosa Schweppes Sin Azúcar Pomelo 1,5 Lt    326\n",
       "1          Gaseosa Coca-cola Sin Azúcar 2,25 Lt    437\n",
       "2            Gaseosa Coca-cola Sin Azúcar 2.5 L    485\n",
       "3                Gaseosa Schweppes Tónica 1.5 L    329\n",
       "4       Gaseosa Coca-cola Sabor Original 2.25 L    437\n",
       "..                                          ...    ...\n",
       "96                    Gaseosa Cola Pepsi 500 Ml    122\n",
       "97      Gaseosa Paso De Los Toros Pomelo 500 Ml    122\n",
       "98                        7up Lima Limón 500 Ml    123\n",
       "99                   7up Lima Limón Lata 354 Ml    107\n",
       "100            Gaseosa Cunnington Pomelo 1500cc    150\n",
       "\n",
       "[101 rows x 2 columns]"
      ]
     },
     "execution_count": 39,
     "metadata": {},
     "output_type": "execute_result"
    }
   ],
   "source": [
    "pd.DataFrame(bebidas)"
   ]
  },
  {
   "cell_type": "code",
   "execution_count": null,
   "id": "1e00a6e0",
   "metadata": {},
   "outputs": [],
   "source": []
  }
 ],
 "metadata": {
  "kernelspec": {
   "display_name": "Python 3 (ipykernel)",
   "language": "python",
   "name": "python3"
  },
  "language_info": {
   "codemirror_mode": {
    "name": "ipython",
    "version": 3
   },
   "file_extension": ".py",
   "mimetype": "text/x-python",
   "name": "python",
   "nbconvert_exporter": "python",
   "pygments_lexer": "ipython3",
   "version": "3.8.10"
  }
 },
 "nbformat": 4,
 "nbformat_minor": 5
}
